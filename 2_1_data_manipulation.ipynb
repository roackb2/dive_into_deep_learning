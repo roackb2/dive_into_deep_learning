{
 "cells": [
  {
   "cell_type": "code",
   "execution_count": 2,
   "id": "bac42d99-29b0-476e-bf65-0b77256d18dc",
   "metadata": {},
   "outputs": [],
   "source": [
    "import torch"
   ]
  },
  {
   "cell_type": "code",
   "execution_count": 3,
   "id": "be8add24-7152-4e4d-912a-893d723ccb2d",
   "metadata": {},
   "outputs": [
    {
     "data": {
      "text/plain": [
       "tensor([ 0.,  1.,  2.,  3.,  4.,  5.,  6.,  7.,  8.,  9., 10., 11.])"
      ]
     },
     "execution_count": 3,
     "metadata": {},
     "output_type": "execute_result"
    }
   ],
   "source": [
    "x = torch.arange(12, dtype=torch.float32)\n",
    "x"
   ]
  },
  {
   "cell_type": "code",
   "execution_count": 4,
   "id": "abe6fb54-9fb3-4a04-82aa-411229ca56c3",
   "metadata": {},
   "outputs": [
    {
     "data": {
      "text/plain": [
       "torch.Tensor"
      ]
     },
     "execution_count": 4,
     "metadata": {},
     "output_type": "execute_result"
    }
   ],
   "source": [
    "type(x)"
   ]
  },
  {
   "cell_type": "code",
   "execution_count": 5,
   "id": "f1088ddc-b132-4d85-80cf-36f96287b32b",
   "metadata": {},
   "outputs": [
    {
     "data": {
      "text/plain": [
       "torch.Size([12])"
      ]
     },
     "execution_count": 5,
     "metadata": {},
     "output_type": "execute_result"
    }
   ],
   "source": [
    "x.size()"
   ]
  },
  {
   "cell_type": "code",
   "execution_count": 6,
   "id": "655b8410-d218-4d11-a722-486cd61c13bd",
   "metadata": {},
   "outputs": [
    {
     "data": {
      "text/plain": [
       "torch.Size([12])"
      ]
     },
     "execution_count": 6,
     "metadata": {},
     "output_type": "execute_result"
    }
   ],
   "source": [
    "x.shape"
   ]
  },
  {
   "cell_type": "code",
   "execution_count": 7,
   "id": "e453c127-433e-4e06-90b5-c2df0893b7e0",
   "metadata": {},
   "outputs": [
    {
     "data": {
      "text/plain": [
       "12"
      ]
     },
     "execution_count": 7,
     "metadata": {},
     "output_type": "execute_result"
    }
   ],
   "source": [
    "x.numel()"
   ]
  },
  {
   "cell_type": "code",
   "execution_count": 8,
   "id": "c23cfbea-f510-4dfc-a891-9ad32fe8403c",
   "metadata": {},
   "outputs": [
    {
     "data": {
      "text/plain": [
       "tensor([[ 0.,  1.,  2.,  3.],\n",
       "        [ 4.,  5.,  6.,  7.],\n",
       "        [ 8.,  9., 10., 11.]])"
      ]
     },
     "execution_count": 8,
     "metadata": {},
     "output_type": "execute_result"
    }
   ],
   "source": [
    "X = x.reshape(3,4)\n",
    "X"
   ]
  },
  {
   "cell_type": "code",
   "execution_count": 9,
   "id": "3684d000-2428-4ae6-b0c2-0fb2a7803700",
   "metadata": {},
   "outputs": [
    {
     "data": {
      "text/plain": [
       "tensor([[ 0.,  1.,  2.,  3.],\n",
       "        [ 4.,  5.,  6.,  7.],\n",
       "        [ 8.,  9., 10., 11.]])"
      ]
     },
     "execution_count": 9,
     "metadata": {},
     "output_type": "execute_result"
    }
   ],
   "source": [
    "x.reshape(3,-1)"
   ]
  },
  {
   "cell_type": "code",
   "execution_count": 10,
   "id": "608a2f56-5ded-49c7-bb27-88e38bac4b8e",
   "metadata": {},
   "outputs": [
    {
     "data": {
      "text/plain": [
       "tensor([[[0., 0., 0., 0.],\n",
       "         [0., 0., 0., 0.],\n",
       "         [0., 0., 0., 0.]],\n",
       "\n",
       "        [[0., 0., 0., 0.],\n",
       "         [0., 0., 0., 0.],\n",
       "         [0., 0., 0., 0.]]])"
      ]
     },
     "execution_count": 10,
     "metadata": {},
     "output_type": "execute_result"
    }
   ],
   "source": [
    "torch.zeros((2,3,4))"
   ]
  },
  {
   "cell_type": "code",
   "execution_count": 11,
   "id": "8331f0bd-77ea-4153-8b05-8d748a2127e5",
   "metadata": {},
   "outputs": [
    {
     "data": {
      "text/plain": [
       "tensor([[[1., 1., 1., 1.],\n",
       "         [1., 1., 1., 1.],\n",
       "         [1., 1., 1., 1.]],\n",
       "\n",
       "        [[1., 1., 1., 1.],\n",
       "         [1., 1., 1., 1.],\n",
       "         [1., 1., 1., 1.]]])"
      ]
     },
     "execution_count": 11,
     "metadata": {},
     "output_type": "execute_result"
    }
   ],
   "source": [
    "torch.ones((2,3,4))"
   ]
  },
  {
   "cell_type": "code",
   "execution_count": 12,
   "id": "f54156ec-e835-43a4-909a-497c41278d64",
   "metadata": {},
   "outputs": [
    {
     "data": {
      "text/plain": [
       "tensor([[-1.7902, -0.1230, -0.4658,  0.1873],\n",
       "        [ 1.3251, -0.1093, -0.6758,  0.7939],\n",
       "        [ 1.0482, -0.5820, -0.1105,  0.6233]])"
      ]
     },
     "execution_count": 12,
     "metadata": {},
     "output_type": "execute_result"
    }
   ],
   "source": [
    "torch.randn(3,4) # values from normal distribution with mean 0 and std 1"
   ]
  },
  {
   "cell_type": "code",
   "execution_count": 13,
   "id": "5bcbfdd8-5add-4a24-8dec-b544ce109be1",
   "metadata": {},
   "outputs": [
    {
     "data": {
      "text/plain": [
       "tensor([[1, 2, 3, 4],\n",
       "        [2, 4, 3, 1],\n",
       "        [1, 4, 2, 3]])"
      ]
     },
     "execution_count": 13,
     "metadata": {},
     "output_type": "execute_result"
    }
   ],
   "source": [
    "torch.tensor([\n",
    "    [1,2,3,4],\n",
    "    [2,4,3,1],\n",
    "    [1,4,2,3]\n",
    "])"
   ]
  },
  {
   "cell_type": "code",
   "execution_count": 20,
   "id": "47443f4f-df7e-424e-a155-456c86751f94",
   "metadata": {},
   "outputs": [
    {
     "data": {
      "text/plain": [
       "tensor([[ 0.,  1.,  2.,  3.],\n",
       "        [ 4.,  5.,  6.,  7.],\n",
       "        [ 8.,  9., 10., 11.]])"
      ]
     },
     "execution_count": 20,
     "metadata": {},
     "output_type": "execute_result"
    }
   ],
   "source": [
    "X"
   ]
  },
  {
   "cell_type": "code",
   "execution_count": 21,
   "id": "630fe7a7-5ef4-451a-bf0c-3258a418db9e",
   "metadata": {},
   "outputs": [
    {
     "data": {
      "text/plain": [
       "tensor([4., 5., 6., 7.])"
      ]
     },
     "execution_count": 21,
     "metadata": {},
     "output_type": "execute_result"
    }
   ],
   "source": [
    "X[1]"
   ]
  },
  {
   "cell_type": "code",
   "execution_count": 22,
   "id": "e95bec5d-b58e-4652-b3ba-6133e0e55061",
   "metadata": {},
   "outputs": [
    {
     "data": {
      "text/plain": [
       "tensor([[ 4.,  5.,  6.,  7.],\n",
       "        [ 8.,  9., 10., 11.]])"
      ]
     },
     "execution_count": 22,
     "metadata": {},
     "output_type": "execute_result"
    }
   ],
   "source": [
    "X[1:3]"
   ]
  },
  {
   "cell_type": "code",
   "execution_count": 23,
   "id": "183de6d7-31fe-411f-928c-62aec1647680",
   "metadata": {},
   "outputs": [
    {
     "data": {
      "text/plain": [
       "tensor([ 8.,  9., 10., 11.])"
      ]
     },
     "execution_count": 23,
     "metadata": {},
     "output_type": "execute_result"
    }
   ],
   "source": [
    "X[-1]"
   ]
  },
  {
   "cell_type": "code",
   "execution_count": 24,
   "id": "355f4da9-6a3c-4550-b500-3bef1b8232f2",
   "metadata": {},
   "outputs": [
    {
     "data": {
      "text/plain": [
       "tensor([[ 6.,  7.],\n",
       "        [10., 11.]])"
      ]
     },
     "execution_count": 24,
     "metadata": {},
     "output_type": "execute_result"
    }
   ],
   "source": [
    "X[1:3,2:4]"
   ]
  },
  {
   "cell_type": "code",
   "execution_count": 26,
   "id": "222e338c-eabf-4eb3-940a-426a4b51113c",
   "metadata": {},
   "outputs": [
    {
     "data": {
      "text/plain": [
       "tensor([[1.0000e+00, 2.7183e+00, 7.3891e+00, 2.0086e+01],\n",
       "        [5.4598e+01, 1.4841e+02, 4.0343e+02, 1.0966e+03],\n",
       "        [2.9810e+03, 8.1031e+03, 2.2026e+04, 5.9874e+04]])"
      ]
     },
     "execution_count": 26,
     "metadata": {},
     "output_type": "execute_result"
    }
   ],
   "source": [
    "torch.exp(X) # e to the X, element wise"
   ]
  },
  {
   "cell_type": "code",
   "execution_count": 28,
   "id": "e043d2d2-9026-45f5-bb11-54dc423572f5",
   "metadata": {},
   "outputs": [
    {
     "data": {
      "text/plain": [
       "(tensor([ 1.2023,  0.5518, -0.8749,  0.1238]),\n",
       " tensor([ 0.8988, -2.3548, -0.7928,  0.0768]))"
      ]
     },
     "execution_count": 28,
     "metadata": {},
     "output_type": "execute_result"
    }
   ],
   "source": [
    "x = torch.randn(4)\n",
    "y = torch.randn(4)\n",
    "x, y"
   ]
  },
  {
   "cell_type": "code",
   "execution_count": 29,
   "id": "849f6553-7c06-4fe6-944a-e51c33357ecc",
   "metadata": {},
   "outputs": [
    {
     "data": {
      "text/plain": [
       "tensor([ 2.1011, -1.8030, -1.6677,  0.2006])"
      ]
     },
     "execution_count": 29,
     "metadata": {},
     "output_type": "execute_result"
    }
   ],
   "source": [
    "x + y # lifted element wise operations"
   ]
  },
  {
   "cell_type": "code",
   "execution_count": 30,
   "id": "0322e5ba-0a78-46e3-971a-922f7c14431e",
   "metadata": {},
   "outputs": [
    {
     "data": {
      "text/plain": [
       "tensor([ 1.0807, -1.2994,  0.6936,  0.0095])"
      ]
     },
     "execution_count": 30,
     "metadata": {},
     "output_type": "execute_result"
    }
   ],
   "source": [
    "x * y # also element wise"
   ]
  },
  {
   "cell_type": "code",
   "execution_count": 32,
   "id": "9dc4692f-c589-4ff8-a3fc-bc6108e29125",
   "metadata": {},
   "outputs": [
    {
     "data": {
      "text/plain": [
       "tensor(0.4843)"
      ]
     },
     "execution_count": 32,
     "metadata": {},
     "output_type": "execute_result"
    }
   ],
   "source": [
    "x @ y # dot product"
   ]
  },
  {
   "cell_type": "code",
   "execution_count": 38,
   "id": "b88f9a35-9dd1-4b9c-9f5f-539a4bff7dd8",
   "metadata": {},
   "outputs": [
    {
     "data": {
      "text/plain": [
       "tensor([[ 1.2023,  0.5518, -0.8749,  0.1238],\n",
       "        [ 2.4045,  1.1036, -1.7497,  0.2476],\n",
       "        [ 0.8988, -2.3548, -0.7928,  0.0768]])"
      ]
     },
     "execution_count": 38,
     "metadata": {},
     "output_type": "execute_result"
    }
   ],
   "source": [
    "torch.stack((x, x * 2, y), axis=0)"
   ]
  },
  {
   "cell_type": "code",
   "execution_count": 39,
   "id": "a7c923eb-5519-4d31-8ce7-95d07a31c42c",
   "metadata": {},
   "outputs": [
    {
     "data": {
      "text/plain": [
       "tensor([[ 1.2023,  1.4455,  0.8079],\n",
       "        [ 0.5518,  0.3045,  5.5451],\n",
       "        [-0.8749,  0.7654,  0.6285],\n",
       "        [ 0.1238,  0.0153,  0.0059]])"
      ]
     },
     "execution_count": 39,
     "metadata": {},
     "output_type": "execute_result"
    }
   ],
   "source": [
    "torch.stack((x, x ** 2, y ** 2), axis=1)"
   ]
  },
  {
   "cell_type": "code",
   "execution_count": 40,
   "id": "574800cd-d899-46ad-93ae-da835dbf7c32",
   "metadata": {},
   "outputs": [
    {
     "data": {
      "text/plain": [
       "tensor([False, False,  True, False])"
      ]
     },
     "execution_count": 40,
     "metadata": {},
     "output_type": "execute_result"
    }
   ],
   "source": [
    "x < y"
   ]
  },
  {
   "cell_type": "code",
   "execution_count": 41,
   "id": "d5db12ca-4536-424b-9c36-f3ec96b3132c",
   "metadata": {},
   "outputs": [
    {
     "data": {
      "text/plain": [
       "tensor(1.0030)"
      ]
     },
     "execution_count": 41,
     "metadata": {},
     "output_type": "execute_result"
    }
   ],
   "source": [
    "x.sum()"
   ]
  },
  {
   "cell_type": "code",
   "execution_count": 46,
   "id": "0029724e-2ec2-4c34-a59d-704e960588ad",
   "metadata": {},
   "outputs": [
    {
     "data": {
      "text/plain": [
       "(tensor([[0],\n",
       "         [1],\n",
       "         [2]]),\n",
       " tensor([[0, 1]]))"
      ]
     },
     "execution_count": 46,
     "metadata": {},
     "output_type": "execute_result"
    }
   ],
   "source": [
    "a = torch.arange(3).reshape(3,1)\n",
    "b = torch.arange(2).reshape(-1,2)\n",
    "a, b"
   ]
  },
  {
   "cell_type": "code",
   "execution_count": 47,
   "id": "8edbad93-ac47-4e00-bcde-c0b6c24740d9",
   "metadata": {},
   "outputs": [
    {
     "data": {
      "text/plain": [
       "tensor([[0, 1],\n",
       "        [1, 2],\n",
       "        [2, 3]])"
      ]
     },
     "execution_count": 47,
     "metadata": {},
     "output_type": "execute_result"
    }
   ],
   "source": [
    "a + b # with broadcasting"
   ]
  },
  {
   "cell_type": "code",
   "execution_count": 50,
   "id": "154e6dba-2153-42ad-ad5c-1e6facc9b2e2",
   "metadata": {},
   "outputs": [
    {
     "data": {
      "text/plain": [
       "False"
      ]
     },
     "execution_count": 50,
     "metadata": {},
     "output_type": "execute_result"
    }
   ],
   "source": [
    "before = id(y)\n",
    "y = x + y\n",
    "id(before) == id(y)"
   ]
  },
  {
   "cell_type": "code",
   "execution_count": 56,
   "id": "df0a5b5c-a847-44a0-a6bc-2ce818d9e2e1",
   "metadata": {},
   "outputs": [
    {
     "name": "stdout",
     "output_type": "stream",
     "text": [
      "id(z): 4563777984\n",
      "id(z): 4563777984\n"
     ]
    },
    {
     "data": {
      "text/plain": [
       "tensor([11.1125, -3.2017, -8.5025,  1.0970])"
      ]
     },
     "execution_count": 56,
     "metadata": {},
     "output_type": "execute_result"
    }
   ],
   "source": [
    "z = torch.ones_like(x)\n",
    "print(f\"id(z): {id(z)}\")\n",
    "z[:] = x + y # This performce in-place addition\n",
    "print(f\"id(z): {id(z)}\")\n",
    "z"
   ]
  },
  {
   "cell_type": "code",
   "execution_count": 57,
   "id": "acb96af5-c199-4850-9ffd-9833b50d170f",
   "metadata": {},
   "outputs": [
    {
     "data": {
      "text/plain": [
       "True"
      ]
     },
     "execution_count": 57,
     "metadata": {},
     "output_type": "execute_result"
    }
   ],
   "source": [
    "before = id(x)\n",
    "x += y # This performce in-place addition\n",
    "id(x) == before"
   ]
  },
  {
   "cell_type": "code",
   "execution_count": 66,
   "id": "787823d6-635b-4bce-b42f-d375ce856e31",
   "metadata": {},
   "outputs": [
    {
     "data": {
      "text/plain": [
       "(tensor([[[-0.4827, -0.6823, -3.1332,  0.6740],\n",
       "          [ 0.8607,  2.6300, -0.1566,  0.2311],\n",
       "          [ 1.8090,  0.5589, -1.0644, -0.2867]]]),\n",
       " tensor([[[-1.2544, -1.1729,  0.9106, -1.1826]],\n",
       " \n",
       "         [[-1.2292,  0.2606,  0.8069, -0.8796]],\n",
       " \n",
       "         [[ 1.1741,  1.5699,  0.6242,  0.3979]]]))"
      ]
     },
     "execution_count": 66,
     "metadata": {},
     "output_type": "execute_result"
    }
   ],
   "source": [
    "a = torch.randn(12).reshape(1,3,4)\n",
    "b = torch.randn(12).reshape(3,1,4)\n",
    "a, b"
   ]
  },
  {
   "cell_type": "code",
   "execution_count": 67,
   "id": "8e48b64b-d793-42e1-bce1-998ba9085c27",
   "metadata": {},
   "outputs": [
    {
     "data": {
      "text/plain": [
       "tensor([[[-1.7370, -1.8552, -2.2226, -0.5086],\n",
       "         [-0.3937,  1.4571,  0.7540, -0.9515],\n",
       "         [ 0.5546, -0.6140, -0.1538, -1.4693]],\n",
       "\n",
       "        [[-1.7119, -0.4217, -2.3264, -0.2056],\n",
       "         [-0.3685,  2.8906,  0.6502, -0.6485],\n",
       "         [ 0.5798,  0.8195, -0.2575, -1.1663]],\n",
       "\n",
       "        [[ 0.6914,  0.8876, -2.5090,  1.0719],\n",
       "         [ 2.0348,  4.1999,  0.4675,  0.6289],\n",
       "         [ 2.9831,  2.1288, -0.4402,  0.1112]]])"
      ]
     },
     "execution_count": 67,
     "metadata": {},
     "output_type": "execute_result"
    }
   ],
   "source": [
    "a + b"
   ]
  },
  {
   "cell_type": "code",
   "execution_count": null,
   "id": "1d715a38-2cec-4539-ab30-e88bdb86afa8",
   "metadata": {},
   "outputs": [],
   "source": []
  }
 ],
 "metadata": {
  "kernelspec": {
   "display_name": "Python 3 (ipykernel)",
   "language": "python",
   "name": "python3"
  },
  "language_info": {
   "codemirror_mode": {
    "name": "ipython",
    "version": 3
   },
   "file_extension": ".py",
   "mimetype": "text/x-python",
   "name": "python",
   "nbconvert_exporter": "python",
   "pygments_lexer": "ipython3",
   "version": "3.10.4"
  }
 },
 "nbformat": 4,
 "nbformat_minor": 5
}
